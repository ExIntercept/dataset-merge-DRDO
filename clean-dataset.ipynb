{
 "cells": [
  {
   "cell_type": "code",
   "execution_count": null,
   "id": "0312d7f4",
   "metadata": {},
   "outputs": [],
   "source": []
  },
  {
   "cell_type": "code",
   "execution_count": 2,
   "id": "c09a4171",
   "metadata": {},
   "outputs": [],
   "source": [
    "import re\n",
    "import pandas as pd\n",
    "from tqdm import tqdm\n",
    "\n",
    "def parse_m2_file(m2_path):\n",
    "    \"\"\"\n",
    "    Parses an M2 file and returns a list of (source, target) sentence pairs.\n",
    "    Each block in M2 corresponds to one sentence and its edits.\n",
    "    \"\"\"\n",
    "    with open(m2_path, 'r', encoding='utf-8') as f:\n",
    "        blocks = f.read().strip().split(\"\\n\\n\")\n",
    "\n",
    "    pairs = []\n",
    "    for block in tqdm(blocks, desc=f\"Parsing {m2_path}\"):\n",
    "        lines = block.strip().split(\"\\n\")\n",
    "        if not lines or not lines[0].startswith(\"S \"):\n",
    "            continue\n",
    "        original = lines[0][2:].strip().split()\n",
    "        edits = [line for line in lines[1:] if line.startswith(\"A \") and \"|||\" in line]\n",
    "\n",
    "        # No edits — skip or treat as identity\n",
    "        if not edits:\n",
    "            corrected = original\n",
    "        else:\n",
    "            corrected = original[:]\n",
    "            offset = 0  # Track position shift from edits\n",
    "            for edit in edits:\n",
    "                parts = edit.split(\"|||\")\n",
    "                span = list(map(int, parts[0][2:].split()))\n",
    "                correction = parts[2].strip()\n",
    "                if correction == \"-NONE-\":\n",
    "                    continue\n",
    "                start, end = span[0], span[1]\n",
    "                corrected[start + offset:end + offset] = correction.split()\n",
    "                offset += len(correction.split()) - (end - start)\n",
    "\n",
    "        # Add prefix \"gec: \" to input for T5\n",
    "        source = \" \".join(original)\n",
    "        target = \" \".join(corrected)\n",
    "        pairs.append((\"gec: \" + source, target))\n",
    "\n",
    "    return pairs"
   ]
  },
  {
   "cell_type": "code",
   "execution_count": 3,
   "id": "74a9082c",
   "metadata": {},
   "outputs": [
    {
     "name": "stderr",
     "output_type": "stream",
     "text": [
      "Parsing wi+locness/m2/ABC.train.gold.bea19.m2: 100%|██████████| 34308/34308 [00:00<00:00, 117804.29it/s]\n",
      "Parsing wi+locness/m2/ABCN.dev.gold.bea19.m2: 100%|██████████| 4384/4384 [00:00<00:00, 106872.43it/s]\n"
     ]
    }
   ],
   "source": [
    "train_pairs = parse_m2_file(\"wi+locness/m2/ABC.train.gold.bea19.m2\")\n",
    "val_pairs = parse_m2_file(\"wi+locness/m2/ABCN.dev.gold.bea19.m2\")\n",
    "\n",
    "df_train = pd.DataFrame(train_pairs, columns=[\"input_text\", \"target_text\"])\n",
    "df_val = pd.DataFrame(val_pairs, columns=[\"input_text\", \"target_text\"])"
   ]
  },
  {
   "cell_type": "code",
   "execution_count": 4,
   "id": "93167be6",
   "metadata": {},
   "outputs": [],
   "source": [
    "df_train.to_csv(\"t5_train.csv\", index=False)\n",
    "df_val.to_csv(\"t5_val.csv\", index=False)"
   ]
  },
  {
   "cell_type": "code",
   "execution_count": 5,
   "id": "8aa72cce",
   "metadata": {},
   "outputs": [
    {
     "name": "stderr",
     "output_type": "stream",
     "text": [
      "Parsing fce/m2/fce.train.gold.bea19.m2: 100%|██████████| 28350/28350 [00:00<00:00, 153812.60it/s]\n",
      "Parsing fce/m2/fce.dev.gold.bea19.m2: 100%|██████████| 2191/2191 [00:00<00:00, 150901.00it/s]\n"
     ]
    }
   ],
   "source": [
    "train_pairs = parse_m2_file(\"fce/m2/fce.train.gold.bea19.m2\")\n",
    "val_pairs = parse_m2_file(\"fce/m2/fce.dev.gold.bea19.m2\")\n",
    "\n",
    "\n",
    "df_fce_train = pd.DataFrame(train_pairs, columns=[\"input_text\",\"target_text\"])\n",
    "df_fce_val = pd.DataFrame(val_pairs, columns=[\"input_text\",\"target_text\"])"
   ]
  },
  {
   "cell_type": "code",
   "execution_count": 6,
   "id": "655a291d",
   "metadata": {},
   "outputs": [],
   "source": [
    "df_train.to_csv(\"t5_train_fce.csv\", index=False)\n",
    "df_val.to_csv(\"t5_val_fce.csv\", index=False)"
   ]
  },
  {
   "cell_type": "code",
   "execution_count": 7,
   "id": "71512dae",
   "metadata": {},
   "outputs": [],
   "source": [
    "import pandas as pd\n",
    "\n",
    "# Load both training CSVs\n",
    "df1 = pd.read_csv(\"t5_train.csv\")\n",
    "df2 = pd.read_csv(\"t5_train_fce.csv\", skiprows=1)  # Skip header of second file\n",
    "\n",
    "# Concatenate them\n",
    "df_train_merged = pd.concat([df1, df2], ignore_index=True)\n",
    "\n",
    "# Optional: Drop duplicates\n",
    "df_train_merged = df_train_merged.drop_duplicates()\n",
    "\n",
    "# Save merged\n",
    "df_train_merged.to_csv(\"t5_train_merged.csv\", index=False)"
   ]
  },
  {
   "cell_type": "code",
   "execution_count": 8,
   "id": "26a08cb6",
   "metadata": {},
   "outputs": [],
   "source": [
    "df_val1 = pd.read_csv(\"t5_val.csv\")\n",
    "df_val2 = pd.read_csv(\"t5_val_fce.csv\", skiprows=1)\n",
    "\n",
    "df_val_merged = pd.concat([df_val1, df_val2], ignore_index=True)\n",
    "df_val_merged = df_val_merged.drop_duplicates()\n",
    "\n",
    "df_val_merged.to_csv(\"t5_val_merged.csv\", index=False)"
   ]
  }
 ],
 "metadata": {
  "kernelspec": {
   "display_name": "Python 3",
   "language": "python",
   "name": "python3"
  },
  "language_info": {
   "codemirror_mode": {
    "name": "ipython",
    "version": 3
   },
   "file_extension": ".py",
   "mimetype": "text/x-python",
   "name": "python",
   "nbconvert_exporter": "python",
   "pygments_lexer": "ipython3",
   "version": "3.12.1"
  }
 },
 "nbformat": 4,
 "nbformat_minor": 5
}
